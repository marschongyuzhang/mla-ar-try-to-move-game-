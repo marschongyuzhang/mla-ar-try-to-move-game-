{
 "cells": [
  {
   "cell_type": "code",
   "execution_count": 1,
   "metadata": {
    "colab": {
     "base_uri": "https://localhost:8080/",
     "height": 34
    },
    "colab_type": "code",
    "id": "l20Rj1HP7LB-",
    "outputId": "9c81bcf6-a6a7-46a2-f49d-aef1d7648f80"
   },
   "outputs": [
    {
     "name": "stderr",
     "output_type": "stream",
     "text": [
      "2023-08-18 23:04:13.418181: I tensorflow/core/platform/cpu_feature_guard.cc:182] This TensorFlow binary is optimized to use available CPU instructions in performance-critical operations.\n",
      "To enable the following instructions: AVX2 FMA, in other operations, rebuild TensorFlow with the appropriate compiler flags.\n",
      "2023-08-18 23:04:14.136140: W tensorflow/compiler/tf2tensorrt/utils/py_utils.cc:38] TF-TRT Warning: Could not find TensorRT\n"
     ]
    },
    {
     "name": "stdout",
     "output_type": "stream",
     "text": [
      "2.13.0\n"
     ]
    }
   ],
   "source": [
    "%matplotlib inline\n",
    "import os\n",
    "\n",
    "import tensorflow as tf\n",
    "\n",
    "from tensorflow import keras\n",
    "import numpy as np\n",
    "import matplotlib.pyplot as plt\n",
    "import cv2\n",
    "import pandas as pd\n",
    "from sklearn.model_selection import train_test_split # Helps with organizing data for training\n",
    "from sklearn.metrics import confusion_matrix # Helps present results as a confusion-matrix\n",
    "\n",
    "print(tf.__version__)"
   ]
  },
  {
   "cell_type": "code",
   "execution_count": 3,
   "metadata": {},
   "outputs": [],
   "source": [
    "import imageio\n",
    "import os\n",
    "import cv2\n",
    "import imgaug as ia\n",
    "import numpy as np\n",
    "%matplotlib inline\n",
    "from imgaug import augmenters as iaa\n",
    "ia.seed(4)\n",
    "\n",
    "image_folder = \"./gesture/09_sideup\"\n",
    "image_extensions = ('.jpg', '.jpeg', '.png', '.gif')\n",
    "\n",
    "image_files = []\n",
    "for root, dirs, files in os.walk(image_folder):\n",
    "    for file in files:\n",
    "        if file.lower().endswith(image_extensions):\n",
    "            image_files.append(os.path.join(root, file))"
   ]
  },
  {
   "cell_type": "markdown",
   "metadata": {},
   "source": [
    "start"
   ]
  },
  {
   "cell_type": "code",
   "execution_count": 3,
   "metadata": {
    "colab": {
     "base_uri": "https://localhost:8080/",
     "height": 34
    },
    "colab_type": "code",
    "id": "jRsNYIIoCmXp",
    "outputId": "4c51136b-9992-4064-876a-0c61730cdfa5"
   },
   "outputs": [
    {
     "name": "stdout",
     "output_type": "stream",
     "text": [
      "107\n"
     ]
    }
   ],
   "source": [
    "import os\n",
    "\n",
    "# Directory path where your images are stored\n",
    "image_directory = './gesture'\n",
    "\n",
    "# List to store image paths\n",
    "image_paths = []\n",
    "\n",
    "for root, dirs, files in os.walk(image_directory):\n",
    "    for name in files:\n",
    "        path = os.path.join(root, name)\n",
    "        if path.endswith(\"png\"):  # We want only the images\n",
    "            image_paths.append(path)\n",
    "\n",
    "print(len(image_paths)) \n"
   ]
  },
  {
   "cell_type": "code",
   "execution_count": 4,
   "metadata": {
    "colab": {},
    "colab_type": "code",
    "id": "ps9mMyvx_MQR"
   },
   "outputs": [],
   "source": [
    "def plot_image(path):\n",
    "  img = cv2.imread(path) # Reads the image into a numpy.array\n",
    "  img_cvt = cv2.cvtColor(img, cv2.COLOR_BGR2GRAY) # Converts into the corret colorspace (RGB)\n",
    "  print(img_cvt.shape) # Prints the shape of the image just to check\n",
    "  plt.grid(False) # Without grid so we can see better\n",
    "  plt.imshow(img_cvt) # Shows the image\n",
    "  plt.xlabel(\"Width\")\n",
    "  plt.ylabel(\"Height\")\n",
    "  plt.title(\"Image \" + path)"
   ]
  },
  {
   "cell_type": "code",
   "execution_count": 6,
   "metadata": {
    "colab": {
     "base_uri": "https://localhost:8080/",
     "height": 67
    },
    "colab_type": "code",
    "id": "LuQLrqJ2ZmOM",
    "outputId": "3f019f13-5250-408a-bc76-907f6947472f"
   },
   "outputs": [
    {
     "name": "stdout",
     "output_type": "stream",
     "text": [
      "Images loaded:  107\n",
      "Labels loaded:  107\n",
      "2 ./gesture/02_backside/02_0009.png\n"
     ]
    }
   ],
   "source": [
    "X = [] # Image data\n",
    "y = [] # Labels\n",
    "\n",
    "# Loops through imagepaths to load images and labels into arrays\n",
    "for path in image_paths:\n",
    "  img = cv2.imread(path) # Reads image and returns np.array\n",
    "  img = cv2.cvtColor(img, cv2.COLOR_BGR2GRAY) # Converts into the corret colorspace (GRAY)\n",
    "  img = cv2.resize(img, (320, 120)) # Reduce image size so training can be faster\n",
    "  X.append(img)\n",
    "  \n",
    "  # Processing label in image path\n",
    "  category = path.split(\"/\")[3]\n",
    "  label = int(category.split(\"_\")[0]) # We need to convert 10_down to 00_down, or else it crashes\n",
    "  y.append(label)\n",
    "\n",
    "# Turn X and y into np.array to speed up train_test_split\n",
    "X = np.array(X, dtype=\"uint8\")\n",
    "X = X.reshape(len(image_paths), 120, 320, 1) # Needed to reshape so CNN knows it's different images\n",
    "y = np.array(y)\n",
    "\n",
    "print(\"Images loaded: \", len(X))\n",
    "print(\"Labels loaded: \", len(y))\n",
    "\n",
    "print(y[0], image_paths[0]) # Debugging"
   ]
  },
  {
   "cell_type": "code",
   "execution_count": 7,
   "metadata": {
    "colab": {},
    "colab_type": "code",
    "id": "NZa2YzKbdEz7"
   },
   "outputs": [],
   "source": [
    "ts = 0.2 \n",
    "X_train, X_test, y_train, y_test = train_test_split(X, y, test_size=ts, random_state=42)"
   ]
  },
  {
   "cell_type": "code",
   "execution_count": 9,
   "metadata": {
    "colab": {
     "base_uri": "https://localhost:8080/",
     "height": 34
    },
    "colab_type": "code",
    "id": "Hq0ej5yDZq2e",
    "outputId": "e6e79eba-8386-4095-be6b-da102071a99b"
   },
   "outputs": [],
   "source": [
    "# Import of keras model and hidden layers for our convolutional network\n",
    "from keras.models import Sequential\n",
    "from keras.layers import Conv2D, MaxPooling2D\n",
    "from keras.layers import Dense, Flatten"
   ]
  },
  {
   "cell_type": "code",
   "execution_count": 10,
   "metadata": {
    "colab": {
     "base_uri": "https://localhost:8080/",
     "height": 87
    },
    "colab_type": "code",
    "id": "iMiPmBWLYrkG",
    "outputId": "385d9b1d-aafb-4efa-f15c-22163b003ba0",
    "scrolled": true
   },
   "outputs": [
    {
     "name": "stderr",
     "output_type": "stream",
     "text": [
      "2023-08-18 08:17:44.526853: I tensorflow/compiler/xla/stream_executor/cuda/cuda_gpu_executor.cc:981] successful NUMA node read from SysFS had negative value (-1), but there must be at least one NUMA node, so returning NUMA node zero\n",
      "2023-08-18 08:17:44.921853: I tensorflow/compiler/xla/stream_executor/cuda/cuda_gpu_executor.cc:981] successful NUMA node read from SysFS had negative value (-1), but there must be at least one NUMA node, so returning NUMA node zero\n",
      "2023-08-18 08:17:44.922040: I tensorflow/compiler/xla/stream_executor/cuda/cuda_gpu_executor.cc:981] successful NUMA node read from SysFS had negative value (-1), but there must be at least one NUMA node, so returning NUMA node zero\n",
      "2023-08-18 08:17:44.922688: I tensorflow/core/platform/cpu_feature_guard.cc:193] This TensorFlow binary is optimized with oneAPI Deep Neural Network Library (oneDNN) to use the following CPU instructions in performance-critical operations:  AVX2 FMA\n",
      "To enable them in other operations, rebuild TensorFlow with the appropriate compiler flags.\n",
      "2023-08-18 08:17:44.923117: I tensorflow/compiler/xla/stream_executor/cuda/cuda_gpu_executor.cc:981] successful NUMA node read from SysFS had negative value (-1), but there must be at least one NUMA node, so returning NUMA node zero\n",
      "2023-08-18 08:17:44.923278: I tensorflow/compiler/xla/stream_executor/cuda/cuda_gpu_executor.cc:981] successful NUMA node read from SysFS had negative value (-1), but there must be at least one NUMA node, so returning NUMA node zero\n",
      "2023-08-18 08:17:44.923419: I tensorflow/compiler/xla/stream_executor/cuda/cuda_gpu_executor.cc:981] successful NUMA node read from SysFS had negative value (-1), but there must be at least one NUMA node, so returning NUMA node zero\n",
      "2023-08-18 08:17:45.453358: I tensorflow/compiler/xla/stream_executor/cuda/cuda_gpu_executor.cc:981] successful NUMA node read from SysFS had negative value (-1), but there must be at least one NUMA node, so returning NUMA node zero\n",
      "2023-08-18 08:17:45.453523: I tensorflow/compiler/xla/stream_executor/cuda/cuda_gpu_executor.cc:981] successful NUMA node read from SysFS had negative value (-1), but there must be at least one NUMA node, so returning NUMA node zero\n",
      "2023-08-18 08:17:45.453655: I tensorflow/compiler/xla/stream_executor/cuda/cuda_gpu_executor.cc:981] successful NUMA node read from SysFS had negative value (-1), but there must be at least one NUMA node, so returning NUMA node zero\n",
      "2023-08-18 08:17:45.453754: I tensorflow/core/common_runtime/gpu/gpu_device.cc:1613] Created device /job:localhost/replica:0/task:0/device:GPU:0 with 7087 MB memory:  -> device: 0, name: NVIDIA GeForce GTX 1070, pci bus id: 0000:01:00.0, compute capability: 6.1\n"
     ]
    }
   ],
   "source": [
    "# Construction of model\n",
    "model = Sequential()\n",
    "model.add(Conv2D(32, (5, 5), activation='relu', input_shape=(120, 320, 1))) \n",
    "model.add(MaxPooling2D((2, 2)))\n",
    "model.add(Conv2D(64, (3, 3), activation='relu')) \n",
    "model.add(MaxPooling2D((2, 2)))\n",
    "model.add(Conv2D(64, (3, 3), activation='relu'))\n",
    "model.add(MaxPooling2D((2, 2)))\n",
    "model.add(Flatten())\n",
    "model.add(Dense(128, activation='relu'))\n",
    "model.add(Dense(16, activation='softmax'))"
   ]
  },
  {
   "cell_type": "code",
   "execution_count": 11,
   "metadata": {},
   "outputs": [],
   "source": [
    "from keras.utils import plot_model\n",
    "from keras.models import Sequential\n",
    "from keras.layers import Conv2D, MaxPooling2D, Flatten, Dense"
   ]
  },
  {
   "cell_type": "code",
   "execution_count": 12,
   "metadata": {
    "colab": {},
    "colab_type": "code",
    "id": "amOpISRiYw3z"
   },
   "outputs": [],
   "source": [
    "from tensorflow.keras.optimizers import Adam\n",
    "# Configures the model for training\n",
    "learning_rate = 0.001  # Set your desired learning rate here\n",
    "optimizer = Adam(learning_rate=learning_rate)\n",
    "\n",
    "model.compile(optimizer=optimizer, # Optimization routine, which tells the computer how to adjust the parameter values to minimize the loss function.\n",
    "              loss='sparse_categorical_crossentropy', # Loss function, which tells us how bad our predictions are.\n",
    "              metrics=['accuracy']) # List of metrics to be evaluated by the model during training and testing."
   ]
  },
  {
   "cell_type": "code",
   "execution_count": 13,
   "metadata": {},
   "outputs": [
    {
     "name": "stdout",
     "output_type": "stream",
     "text": [
      "Epoch 1/50\n"
     ]
    },
    {
     "name": "stderr",
     "output_type": "stream",
     "text": [
      "2023-08-18 08:17:47.939801: I tensorflow/compiler/xla/stream_executor/cuda/cuda_dnn.cc:428] Loaded cuDNN version 8101\n",
      "2023-08-18 08:17:52.145040: I tensorflow/compiler/xla/service/service.cc:173] XLA service 0x1cc94f10 initialized for platform CUDA (this does not guarantee that XLA will be used). Devices:\n",
      "2023-08-18 08:17:52.145064: I tensorflow/compiler/xla/service/service.cc:181]   StreamExecutor device (0): NVIDIA GeForce GTX 1070, Compute Capability 6.1\n",
      "2023-08-18 08:17:52.149575: I tensorflow/compiler/mlir/tensorflow/utils/dump_mlir_util.cc:268] disabling MLIR crash reproducer, set env var `MLIR_CRASH_REPRODUCER_DIRECTORY` to enable.\n",
      "2023-08-18 08:17:52.272829: I tensorflow/compiler/jit/xla_compilation_cache.cc:477] Compiled cluster using XLA!  This line is logged at most once for the lifetime of the process.\n"
     ]
    },
    {
     "name": "stdout",
     "output_type": "stream",
     "text": [
      "6/6 - 7s - loss: 137.9972 - accuracy: 0.2824 - val_loss: 26.0749 - val_accuracy: 0.5000 - 7s/epoch - 1s/step\n",
      "Epoch 2/50\n",
      "6/6 - 0s - loss: 14.7943 - accuracy: 0.4706 - val_loss: 8.3560 - val_accuracy: 0.4545 - 115ms/epoch - 19ms/step\n",
      "Epoch 3/50\n",
      "6/6 - 0s - loss: 2.8720 - accuracy: 0.6000 - val_loss: 2.1327 - val_accuracy: 0.5909 - 114ms/epoch - 19ms/step\n",
      "Epoch 4/50\n",
      "6/6 - 0s - loss: 0.5850 - accuracy: 0.8118 - val_loss: 1.5770 - val_accuracy: 0.5909 - 112ms/epoch - 19ms/step\n",
      "Epoch 5/50\n",
      "6/6 - 0s - loss: 0.1147 - accuracy: 0.9529 - val_loss: 2.3219 - val_accuracy: 0.5000 - 113ms/epoch - 19ms/step\n",
      "Epoch 6/50\n",
      "6/6 - 0s - loss: 0.1954 - accuracy: 0.9529 - val_loss: 3.0484 - val_accuracy: 0.6364 - 113ms/epoch - 19ms/step\n",
      "Epoch 7/50\n",
      "6/6 - 0s - loss: 0.2001 - accuracy: 0.9412 - val_loss: 1.4709 - val_accuracy: 0.6818 - 120ms/epoch - 20ms/step\n",
      "Epoch 8/50\n",
      "6/6 - 0s - loss: 0.1479 - accuracy: 0.9765 - val_loss: 2.0682 - val_accuracy: 0.6364 - 120ms/epoch - 20ms/step\n",
      "Epoch 9/50\n",
      "6/6 - 0s - loss: 0.2754 - accuracy: 0.9647 - val_loss: 2.2564 - val_accuracy: 0.6364 - 121ms/epoch - 20ms/step\n",
      "Epoch 10/50\n",
      "6/6 - 0s - loss: 0.0738 - accuracy: 0.9882 - val_loss: 3.4342 - val_accuracy: 0.7273 - 118ms/epoch - 20ms/step\n",
      "Epoch 11/50\n",
      "6/6 - 0s - loss: 0.0168 - accuracy: 1.0000 - val_loss: 3.5396 - val_accuracy: 0.7273 - 113ms/epoch - 19ms/step\n",
      "Epoch 12/50\n",
      "6/6 - 0s - loss: 0.0023 - accuracy: 1.0000 - val_loss: 3.0674 - val_accuracy: 0.6818 - 116ms/epoch - 19ms/step\n",
      "Epoch 13/50\n",
      "6/6 - 0s - loss: 0.0018 - accuracy: 1.0000 - val_loss: 2.4974 - val_accuracy: 0.6818 - 110ms/epoch - 18ms/step\n",
      "Epoch 14/50\n",
      "6/6 - 0s - loss: 7.2666e-04 - accuracy: 1.0000 - val_loss: 2.1174 - val_accuracy: 0.6818 - 112ms/epoch - 19ms/step\n",
      "Epoch 15/50\n",
      "6/6 - 0s - loss: 3.4562e-04 - accuracy: 1.0000 - val_loss: 1.9293 - val_accuracy: 0.7273 - 112ms/epoch - 19ms/step\n",
      "Epoch 16/50\n",
      "6/6 - 0s - loss: 2.1652e-04 - accuracy: 1.0000 - val_loss: 1.8454 - val_accuracy: 0.7727 - 112ms/epoch - 19ms/step\n",
      "Epoch 17/50\n",
      "6/6 - 0s - loss: 1.5639e-04 - accuracy: 1.0000 - val_loss: 1.8092 - val_accuracy: 0.7727 - 114ms/epoch - 19ms/step\n",
      "Epoch 18/50\n",
      "6/6 - 0s - loss: 1.2193e-04 - accuracy: 1.0000 - val_loss: 1.7979 - val_accuracy: 0.7727 - 114ms/epoch - 19ms/step\n",
      "Epoch 19/50\n",
      "6/6 - 0s - loss: 9.6345e-05 - accuracy: 1.0000 - val_loss: 1.7997 - val_accuracy: 0.8182 - 111ms/epoch - 19ms/step\n",
      "Epoch 20/50\n",
      "6/6 - 0s - loss: 7.2804e-05 - accuracy: 1.0000 - val_loss: 1.8054 - val_accuracy: 0.8182 - 113ms/epoch - 19ms/step\n",
      "Epoch 21/50\n",
      "6/6 - 0s - loss: 5.7827e-05 - accuracy: 1.0000 - val_loss: 1.8136 - val_accuracy: 0.8182 - 117ms/epoch - 20ms/step\n",
      "Epoch 22/50\n",
      "6/6 - 0s - loss: 4.8656e-05 - accuracy: 1.0000 - val_loss: 1.8324 - val_accuracy: 0.8182 - 118ms/epoch - 20ms/step\n",
      "Epoch 23/50\n",
      "6/6 - 0s - loss: 3.8548e-05 - accuracy: 1.0000 - val_loss: 1.8463 - val_accuracy: 0.8182 - 109ms/epoch - 18ms/step\n",
      "Epoch 24/50\n",
      "6/6 - 0s - loss: 3.3053e-05 - accuracy: 1.0000 - val_loss: 1.8577 - val_accuracy: 0.8182 - 113ms/epoch - 19ms/step\n",
      "Epoch 25/50\n",
      "6/6 - 0s - loss: 2.9072e-05 - accuracy: 1.0000 - val_loss: 1.8673 - val_accuracy: 0.8182 - 114ms/epoch - 19ms/step\n",
      "Epoch 26/50\n",
      "6/6 - 0s - loss: 2.5813e-05 - accuracy: 1.0000 - val_loss: 1.8755 - val_accuracy: 0.8182 - 113ms/epoch - 19ms/step\n",
      "Epoch 27/50\n",
      "6/6 - 0s - loss: 2.3002e-05 - accuracy: 1.0000 - val_loss: 1.8840 - val_accuracy: 0.8182 - 113ms/epoch - 19ms/step\n",
      "Epoch 28/50\n",
      "6/6 - 0s - loss: 2.0665e-05 - accuracy: 1.0000 - val_loss: 1.8915 - val_accuracy: 0.8182 - 116ms/epoch - 19ms/step\n",
      "Epoch 29/50\n",
      "6/6 - 0s - loss: 1.8477e-05 - accuracy: 1.0000 - val_loss: 1.8982 - val_accuracy: 0.8182 - 115ms/epoch - 19ms/step\n",
      "Epoch 30/50\n",
      "6/6 - 0s - loss: 1.6868e-05 - accuracy: 1.0000 - val_loss: 1.9078 - val_accuracy: 0.8182 - 113ms/epoch - 19ms/step\n",
      "Epoch 31/50\n",
      "6/6 - 0s - loss: 1.5250e-05 - accuracy: 1.0000 - val_loss: 1.9193 - val_accuracy: 0.8182 - 113ms/epoch - 19ms/step\n",
      "Epoch 32/50\n",
      "6/6 - 0s - loss: 1.3548e-05 - accuracy: 1.0000 - val_loss: 1.9285 - val_accuracy: 0.8182 - 112ms/epoch - 19ms/step\n",
      "Epoch 33/50\n",
      "6/6 - 0s - loss: 1.2526e-05 - accuracy: 1.0000 - val_loss: 1.9380 - val_accuracy: 0.8182 - 112ms/epoch - 19ms/step\n",
      "Epoch 34/50\n",
      "6/6 - 0s - loss: 1.1289e-05 - accuracy: 1.0000 - val_loss: 1.9458 - val_accuracy: 0.8182 - 112ms/epoch - 19ms/step\n",
      "Epoch 35/50\n",
      "6/6 - 0s - loss: 1.0235e-05 - accuracy: 1.0000 - val_loss: 1.9526 - val_accuracy: 0.8182 - 119ms/epoch - 20ms/step\n",
      "Epoch 36/50\n",
      "6/6 - 0s - loss: 9.4344e-06 - accuracy: 1.0000 - val_loss: 1.9588 - val_accuracy: 0.8182 - 119ms/epoch - 20ms/step\n",
      "Epoch 37/50\n",
      "6/6 - 0s - loss: 8.8750e-06 - accuracy: 1.0000 - val_loss: 1.9652 - val_accuracy: 0.8182 - 117ms/epoch - 19ms/step\n",
      "Epoch 38/50\n",
      "6/6 - 0s - loss: 8.3253e-06 - accuracy: 1.0000 - val_loss: 1.9711 - val_accuracy: 0.8182 - 117ms/epoch - 19ms/step\n",
      "Epoch 39/50\n",
      "6/6 - 0s - loss: 7.9790e-06 - accuracy: 1.0000 - val_loss: 1.9786 - val_accuracy: 0.8182 - 113ms/epoch - 19ms/step\n",
      "Epoch 40/50\n",
      "6/6 - 0s - loss: 7.4602e-06 - accuracy: 1.0000 - val_loss: 1.9852 - val_accuracy: 0.8182 - 113ms/epoch - 19ms/step\n",
      "Epoch 41/50\n",
      "6/6 - 0s - loss: 7.0073e-06 - accuracy: 1.0000 - val_loss: 1.9919 - val_accuracy: 0.8182 - 114ms/epoch - 19ms/step\n",
      "Epoch 42/50\n",
      "6/6 - 0s - loss: 6.5025e-06 - accuracy: 1.0000 - val_loss: 1.9975 - val_accuracy: 0.8182 - 114ms/epoch - 19ms/step\n",
      "Epoch 43/50\n",
      "6/6 - 0s - loss: 6.1997e-06 - accuracy: 1.0000 - val_loss: 2.0034 - val_accuracy: 0.8182 - 110ms/epoch - 18ms/step\n",
      "Epoch 44/50\n",
      "6/6 - 0s - loss: 5.7720e-06 - accuracy: 1.0000 - val_loss: 2.0079 - val_accuracy: 0.8182 - 115ms/epoch - 19ms/step\n",
      "Epoch 45/50\n",
      "6/6 - 0s - loss: 5.5603e-06 - accuracy: 1.0000 - val_loss: 2.0148 - val_accuracy: 0.8182 - 111ms/epoch - 18ms/step\n",
      "Epoch 46/50\n",
      "6/6 - 0s - loss: 5.2714e-06 - accuracy: 1.0000 - val_loss: 2.0208 - val_accuracy: 0.8182 - 112ms/epoch - 19ms/step\n",
      "Epoch 47/50\n",
      "6/6 - 0s - loss: 4.9671e-06 - accuracy: 1.0000 - val_loss: 2.0259 - val_accuracy: 0.8182 - 115ms/epoch - 19ms/step\n",
      "Epoch 48/50\n",
      "6/6 - 0s - loss: 4.7652e-06 - accuracy: 1.0000 - val_loss: 2.0310 - val_accuracy: 0.8182 - 120ms/epoch - 20ms/step\n",
      "Epoch 49/50\n",
      "6/6 - 0s - loss: 4.5450e-06 - accuracy: 1.0000 - val_loss: 2.0349 - val_accuracy: 0.8182 - 117ms/epoch - 19ms/step\n",
      "Epoch 50/50\n",
      "6/6 - 0s - loss: 4.3123e-06 - accuracy: 1.0000 - val_loss: 2.0403 - val_accuracy: 0.8182 - 119ms/epoch - 20ms/step\n"
     ]
    },
    {
     "data": {
      "text/plain": [
       "<keras.callbacks.History at 0x7f97bdbbf0d0>"
      ]
     },
     "execution_count": 13,
     "metadata": {},
     "output_type": "execute_result"
    }
   ],
   "source": [
    "model.fit(X_train, y_train, epochs=50, batch_size=16, verbose=2, validation_data=(X_test, y_test))"
   ]
  },
  {
   "cell_type": "code",
   "execution_count": 14,
   "metadata": {
    "colab": {},
    "colab_type": "code",
    "id": "n1zE7Dn4fJt0"
   },
   "outputs": [],
   "source": [
    "model.save('handrecognition_model.h5')"
   ]
  }
 ],
 "metadata": {
  "colab": {
   "collapsed_sections": [],
   "include_colab_link": true,
   "name": "HandRecognition.ipynb",
   "provenance": [],
   "version": "0.3.2"
  },
  "kernelspec": {
   "display_name": "Python 3 (ipykernel)",
   "language": "python",
   "name": "python3"
  },
  "language_info": {
   "codemirror_mode": {
    "name": "ipython",
    "version": 3
   },
   "file_extension": ".py",
   "mimetype": "text/x-python",
   "name": "python",
   "nbconvert_exporter": "python",
   "pygments_lexer": "ipython3",
   "version": "3.11.4"
  }
 },
 "nbformat": 4,
 "nbformat_minor": 4
}
